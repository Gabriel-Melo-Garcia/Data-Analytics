{
 "cells": [
  {
   "cell_type": "code",
   "execution_count": 1,
   "id": "512fc402-ad5d-4f29-9d36-b63e8feebe5f",
   "metadata": {},
   "outputs": [],
   "source": [
    "from bs4 import BeautifulSoup \n",
    "import requests\n",
    "import pandas as pd"
   ]
  },
  {
   "cell_type": "code",
   "execution_count": 2,
   "id": "8d0ff2c2-cab5-47d4-923d-c7bf62c1fbd0",
   "metadata": {
    "scrolled": true
   },
   "outputs": [],
   "source": [
    "amazon_url1 = 'https://www.amazon.com/Logitech-G502-Performance-Gaming-Mouse/dp/B07GBZ4Q68/ref=sr_1_3?_encoding=UTF8&content-id=amzn1.sym.12129333-2117-4490-9c17-6d31baf0582a&dib=eyJ2IjoiMSJ9.D51lWxt7OD5GPXMrCM-hnmvNXvA-w_XHGFy5ogwR0BWBrPchZlkkbxBoM-giQ_NeDNVnL3DK0F9rmWvxT521UP4any1Egej1Y8YWWvOh8lV7OJvOf2pl-PXs5YUzRoMfPMFKPN7Bgas0-H4HNjIMaP5mPezpCD_ZMw9acctlMdNFRbWBJHL8Lf6YdZkDCfibGyXG-bJ59IAF0SgZaxv222tkPBa00WjnBTc_ignZAwI.v4oI4G_UfTVtr4zqaE1u6NRcsyyheRCPXctFZtSAIiI&dib_tag=se&keywords=gaming%2Bmouse&pd_rd_r=2da26c50-f937-42cb-8b22-cea88e3059e2&pd_rd_w=w1CaS&pd_rd_wg=NXES7&pf_rd_p=12129333-2117-4490-9c17-6d31baf0582a&pf_rd_r=ASGZ529EE98FBW56EXVH&qid=1736440319&sr=8-3&th=1'\n",
    "amazon_url2 = 'https://www.amazon.com/Redragon-Bluetooth-Ergonomic-Programmable-Rechargeable/dp/B0CTHHR6YF/ref=sr_1_2_sspa?_encoding=UTF8&content-id=amzn1.sym.12129333-2117-4490-9c17-6d31baf0582a&dib=eyJ2IjoiMSJ9.D51lWxt7OD5GPXMrCM-hnmvNXvA-w_XHGFy5ogwR0BWBrPchZlkkbxBoM-giQ_NeDNVnL3DK0F9rmWvxT521UP4any1Egej1Y8YWWvOh8lV7OJvOf2pl-PXs5YUzRoMfPMFKPN7Bgas0-H4HNjIMaP5mPezpCD_ZMw9acctlMdNFRbWBJHL8Lf6YdZkDCfibGyXG-bJ59IAF0SgZaxv222tkPBa00WjnBTc_ignZAwI.v4oI4G_UfTVtr4zqaE1u6NRcsyyheRCPXctFZtSAIiI&dib_tag=se&keywords=gaming%2Bmouse&pd_rd_r=2da26c50-f937-42cb-8b22-cea88e3059e2&pd_rd_w=w1CaS&pd_rd_wg=NXES7&pf_rd_p=12129333-2117-4490-9c17-6d31baf0582a&pf_rd_r=ASGZ529EE98FBW56EXVH&qid=1736440335&sr=8-2-spons&sp_csd=d2lkZ2V0TmFtZT1zcF9hdGY&th=1'\n",
    "\n",
    "HEADERS = {\n",
    "    \"User-Agent\": \"Mozilla/5.0 (Windows NT 10.0; Win64; x64) AppleWebKit/537.36 (KHTML, like Gecko) Chrome/114.0.0.0 Safari/537.36\",\n",
    "    \"Accept-Language\": \"en-US,en;q=0.9\",\n",
    "}\n",
    "\n",
    "response = requests.get(amazon_url2,headers=HEADERS)\n",
    "#html = response.text\n",
    "\n",
    "soup = BeautifulSoup(response.content, \"html.parser\")\n",
    "\n",
    "\n"
   ]
  },
  {
   "cell_type": "code",
   "execution_count": 3,
   "id": "9d8bb2b2-45ac-4df4-81ca-be604e644291",
   "metadata": {},
   "outputs": [
    {
     "data": {
      "text/plain": [
       "'        Redragon Wireless Gaming Mouse, Tri-Mode 2.4G/USB-C/Bluetooth Ergonomic Mouse Gaming, 8000 DPI, RGB Backlit, Fully Programmable, Rechargeable Wireless Computer Mouse for Laptop PC Mac, M814       '"
      ]
     },
     "execution_count": 3,
     "metadata": {},
     "output_type": "execute_result"
    }
   ],
   "source": [
    "#<span id=\"productTitle\" class=\"a-size-large product-title-word-break\">…</span>\n",
    "nome_produto = soup.find(id=\"productTitle\")\n",
    "nome_produto.text\n"
   ]
  },
  {
   "cell_type": "code",
   "execution_count": 4,
   "id": "cc6c554f-818f-4687-8c11-4e7c278b7bc6",
   "metadata": {},
   "outputs": [
    {
     "data": {
      "text/plain": [
       "'$29.99'"
      ]
     },
     "execution_count": 4,
     "metadata": {},
     "output_type": "execute_result"
    }
   ],
   "source": [
    "preco_produto = soup.select_one(\"#corePrice_feature_div > div > div > span.a-price.aok-align-center > span.a-offscreen\")\n",
    "preco_produto.text"
   ]
  },
  {
   "cell_type": "code",
   "execution_count": 5,
   "id": "37ea6e8e-43d2-475d-9be5-302173beb3b7",
   "metadata": {},
   "outputs": [
    {
     "name": "stdout",
     "output_type": "stream",
     "text": [
      "554 ratings  4.4 \n"
     ]
    }
   ],
   "source": [
    "reviews = soup.select_one(\"#acrCustomerReviewText\")\n",
    "nota = soup.select_one(\"#acrPopover > span.a-declarative > a > span\")\n",
    "\n",
    "print(reviews.text,nota.text)\n"
   ]
  },
  {
   "cell_type": "code",
   "execution_count": 6,
   "id": "e6c1dde7-dfa4-4580-9c3a-75bd702bebc8",
   "metadata": {},
   "outputs": [
    {
     "name": "stdout",
     "output_type": "stream",
     "text": [
      "o produto tem:554 ratings com uma nota de 4.4 \n"
     ]
    }
   ],
   "source": [
    "print(f'o produto tem:{reviews.text} com uma nota de{nota.text}')"
   ]
  },
  {
   "cell_type": "code",
   "execution_count": 7,
   "id": "efa1cd4d-a86e-4e71-8959-5736ad251f9f",
   "metadata": {},
   "outputs": [
    {
     "data": {
      "text/plain": [
       "'Redragon zone'"
      ]
     },
     "execution_count": 7,
     "metadata": {},
     "output_type": "execute_result"
    }
   ],
   "source": [
    "vendedor = soup.select_one(\"#sellerProfileTriggerId\")\n",
    "vendedor.text"
   ]
  }
 ],
 "metadata": {
  "kernelspec": {
   "display_name": "Python 3 (ipykernel)",
   "language": "python",
   "name": "python3"
  },
  "language_info": {
   "codemirror_mode": {
    "name": "ipython",
    "version": 3
   },
   "file_extension": ".py",
   "mimetype": "text/x-python",
   "name": "python",
   "nbconvert_exporter": "python",
   "pygments_lexer": "ipython3",
   "version": "3.13.0"
  }
 },
 "nbformat": 4,
 "nbformat_minor": 5
}
